{
 "cells": [
  {
   "cell_type": "code",
   "execution_count": 52,
   "id": "63768783",
   "metadata": {},
   "outputs": [
    {
     "name": "stdout",
     "output_type": "stream",
     "text": [
      "Temporary file created at: C:\\Users\\lenovo\\AppData\\Local\\Temp\\tmpiq3bmlix.txt\n",
      "Hello, world!\n"
     ]
    }
   ],
   "source": [
    "import tempfile\n",
    "\n",
    "# Create a temporary file\n",
    "with tempfile.NamedTemporaryFile(delete=False, suffix=\".txt\") as temp_file:\n",
    "    temp_file.write(b\"Hello, world!\")\n",
    "    temp_file_path = temp_file.name\n",
    "\n",
    "print(f\"Temporary file created at: {temp_file_path}\")\n",
    "\n",
    "# Read content of the temporary file\n",
    "with open(temp_file_path, 'r') as file:\n",
    "    content = file.read()\n",
    "    print(content)\n"
   ]
  },
  {
   "cell_type": "code",
   "execution_count": 53,
   "id": "4e69f668",
   "metadata": {},
   "outputs": [],
   "source": [
    "import google.generativeai as genai\n",
    "import os\n",
    "from dotenv import load_dotenv\n",
    "\n",
    "# Load environment variables from .env file\n",
    "load_dotenv()\n",
    "api = os.getenv(\"api\")\n",
    "\n",
    "\n",
    "genai.configure(api_key=api)\n",
    "\n"
   ]
  },
  {
   "cell_type": "code",
   "execution_count": 54,
   "id": "2c6f0ec0",
   "metadata": {},
   "outputs": [],
   "source": [
    "available_models = genai.list_models()"
   ]
  },
  {
   "cell_type": "code",
   "execution_count": 55,
   "id": "f971c64e",
   "metadata": {},
   "outputs": [
    {
     "name": "stdout",
     "output_type": "stream",
     "text": [
      "models/embedding-gecko-001\n",
      "models/gemini-1.5-pro-latest\n",
      "models/gemini-1.5-pro-002\n",
      "models/gemini-1.5-pro\n",
      "models/gemini-1.5-flash-latest\n",
      "models/gemini-1.5-flash\n",
      "models/gemini-1.5-flash-002\n",
      "models/gemini-1.5-flash-8b\n",
      "models/gemini-1.5-flash-8b-001\n",
      "models/gemini-1.5-flash-8b-latest\n",
      "models/gemini-2.5-pro-preview-03-25\n",
      "models/gemini-2.5-flash-preview-05-20\n",
      "models/gemini-2.5-flash\n",
      "models/gemini-2.5-flash-lite-preview-06-17\n",
      "models/gemini-2.5-pro-preview-05-06\n",
      "models/gemini-2.5-pro-preview-06-05\n",
      "models/gemini-2.5-pro\n",
      "models/gemini-2.0-flash-exp\n",
      "models/gemini-2.0-flash\n",
      "models/gemini-2.0-flash-001\n",
      "models/gemini-2.0-flash-lite-001\n",
      "models/gemini-2.0-flash-lite\n",
      "models/gemini-2.0-flash-lite-preview-02-05\n",
      "models/gemini-2.0-flash-lite-preview\n",
      "models/gemini-2.0-pro-exp\n",
      "models/gemini-2.0-pro-exp-02-05\n",
      "models/gemini-exp-1206\n",
      "models/gemini-2.0-flash-thinking-exp-01-21\n",
      "models/gemini-2.0-flash-thinking-exp\n",
      "models/gemini-2.0-flash-thinking-exp-1219\n",
      "models/gemini-2.5-flash-preview-tts\n",
      "models/gemini-2.5-pro-preview-tts\n",
      "models/learnlm-2.0-flash-experimental\n",
      "models/gemma-3-1b-it\n",
      "models/gemma-3-4b-it\n",
      "models/gemma-3-12b-it\n",
      "models/gemma-3-27b-it\n",
      "models/gemma-3n-e4b-it\n",
      "models/gemma-3n-e2b-it\n",
      "models/gemini-2.5-flash-lite\n",
      "models/embedding-001\n",
      "models/text-embedding-004\n",
      "models/gemini-embedding-exp-03-07\n",
      "models/gemini-embedding-exp\n",
      "models/gemini-embedding-001\n",
      "models/aqa\n",
      "models/imagen-3.0-generate-002\n",
      "models/imagen-4.0-generate-preview-06-06\n",
      "models/imagen-4.0-ultra-generate-preview-06-06\n",
      "models/imagen-4.0-generate-001\n",
      "models/imagen-4.0-ultra-generate-001\n",
      "models/imagen-4.0-fast-generate-001\n",
      "models/veo-2.0-generate-001\n",
      "models/veo-3.0-generate-preview\n",
      "models/veo-3.0-fast-generate-preview\n",
      "models/gemini-2.5-flash-preview-native-audio-dialog\n",
      "models/gemini-2.5-flash-exp-native-audio-thinking-dialog\n",
      "models/gemini-2.0-flash-live-001\n",
      "models/gemini-live-2.5-flash-preview\n",
      "models/gemini-2.5-flash-live-preview\n"
     ]
    }
   ],
   "source": [
    "for model in available_models:\n",
    "    print(model.name)"
   ]
  },
  {
   "cell_type": "code",
   "execution_count": 56,
   "id": "1b8db4af",
   "metadata": {},
   "outputs": [],
   "source": [
    "def generate_text(text):\n",
    "    model = genai.GenerativeModel(\"models/gemini-1.5-flash\")\n",
    "    response = model.generate_content(text)\n",
    "    return response.text"
   ]
  },
  {
   "cell_type": "code",
   "execution_count": 57,
   "id": "b338fc60",
   "metadata": {},
   "outputs": [
    {
     "data": {
      "text/plain": [
       "\"The population of Egypt is estimated to be around **110 million** people.  However, this is an estimate, and the exact number fluctuates.  You'll find slightly different numbers depending on the source and the time of the estimate.\\n\""
      ]
     },
     "execution_count": 57,
     "metadata": {},
     "output_type": "execute_result"
    }
   ],
   "source": [
    "generate_text(\"how many people in egypt\")  # Example usage"
   ]
  },
  {
   "cell_type": "code",
   "execution_count": 58,
   "id": "484af185",
   "metadata": {},
   "outputs": [],
   "source": [
    "from langchain.document_loaders import PyPDFLoader\n"
   ]
  },
  {
   "cell_type": "code",
   "execution_count": 59,
   "id": "43ee1736",
   "metadata": {},
   "outputs": [],
   "source": [
    "__loader__ = PyPDFLoader(\"D:\\\\New folder\\\\LEVEL 03\\\\Sem02\\\\AML\\\\ReinforcementLearning\\\\ReinforcementLearning.pdf\")  \n"
   ]
  },
  {
   "cell_type": "code",
   "execution_count": 60,
   "id": "9e4791fc",
   "metadata": {},
   "outputs": [],
   "source": [
    "documents = __loader__.load()"
   ]
  },
  {
   "cell_type": "code",
   "execution_count": 61,
   "id": "fb04cc8e",
   "metadata": {},
   "outputs": [
    {
     "name": "stdout",
     "output_type": "stream",
     "text": [
      "Reinforcement Learning\n",
      "Dr. Salwa Osama\n"
     ]
    }
   ],
   "source": [
    "print(documents[0].page_content)  # Print the content of the first page"
   ]
  },
  {
   "cell_type": "code",
   "execution_count": 62,
   "id": "b232d0cc",
   "metadata": {},
   "outputs": [],
   "source": [
    "from sentence_transformers import SentenceTransformer,util\n",
    "model = SentenceTransformer(\"multi-qa-mpnet-base-cos-v1\")\n",
    "\n",
    "query_embedding = model.encode(\"How big is London\")\n",
    "passage_embeddings = model.encode([\n",
    "    \"London is known for its financial district\",\n",
    "    \"London has 9,787,426 inhabitants at the 2011 census\",\n",
    "    \"The United Kingdom is the fourth largest exporter of goods in the world\",\n",
    "])\n",
    "\n"
   ]
  },
  {
   "cell_type": "code",
   "execution_count": 63,
   "id": "0a568e36",
   "metadata": {},
   "outputs": [],
   "source": [
    "from sentence_transformers import util\n",
    "\n",
    "similarity_Score=util.pytorch_cos_sim(query_embedding, passage_embeddings)"
   ]
  },
  {
   "cell_type": "code",
   "execution_count": 64,
   "id": "16a4595a",
   "metadata": {},
   "outputs": [
    {
     "data": {
      "text/plain": [
       "tensor([[0.4656, 0.6142, 0.2697]])"
      ]
     },
     "execution_count": 64,
     "metadata": {},
     "output_type": "execute_result"
    }
   ],
   "source": [
    "similarity_Score"
   ]
  },
  {
   "cell_type": "code",
   "execution_count": 65,
   "id": "c67b4220",
   "metadata": {},
   "outputs": [
    {
     "name": "stdout",
     "output_type": "stream",
     "text": [
      "London has 9,787,426 inhabitants at the 2011 census\n"
     ]
    }
   ],
   "source": [
    "import numpy as np\n",
    "# Find the index of the most similar passage\n",
    "most_similar_index = np.argmax(similarity_Score)\n",
    "\n",
    "similar_passages=[\n",
    "    \"London is known for its financial district\",\n",
    "    \"London has 9,787,426 inhabitants at the 2011 census\",\n",
    "    \"The United Kingdom is the fourth largest exporter of goods in the world\",    \n",
    "][most_similar_index]\n",
    "\n",
    "print(similar_passages)"
   ]
  }
 ],
 "metadata": {
  "kernelspec": {
   "display_name": "base",
   "language": "python",
   "name": "python3"
  },
  "language_info": {
   "codemirror_mode": {
    "name": "ipython",
    "version": 3
   },
   "file_extension": ".py",
   "mimetype": "text/x-python",
   "name": "python",
   "nbconvert_exporter": "python",
   "pygments_lexer": "ipython3",
   "version": "3.12.3"
  }
 },
 "nbformat": 4,
 "nbformat_minor": 5
}
